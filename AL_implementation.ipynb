{
  "nbformat": 4,
  "nbformat_minor": 0,
  "metadata": {
    "colab": {
      "provenance": [],
      "gpuType": "T4",
      "authorship_tag": "ABX9TyNZTDoQd95EnCBDM9oj8dEL",
      "include_colab_link": true
    },
    "kernelspec": {
      "name": "python3",
      "display_name": "Python 3"
    },
    "language_info": {
      "name": "python"
    },
    "accelerator": "GPU"
  },
  "cells": [
    {
      "cell_type": "markdown",
      "metadata": {
        "id": "view-in-github",
        "colab_type": "text"
      },
      "source": [
        "<a href=\"https://colab.research.google.com/github/Sahith-Rao/IIIT_internship/blob/main/AL_implementation.ipynb\" target=\"_parent\"><img src=\"https://colab.research.google.com/assets/colab-badge.svg\" alt=\"Open In Colab\"/></a>"
      ]
    },
    {
      "cell_type": "code",
      "execution_count": 1,
      "metadata": {
        "colab": {
          "base_uri": "https://localhost:8080/"
        },
        "id": "6FtR_Yn6Sslw",
        "outputId": "324d7f76-d980-4537-be03-e4a8fb1dcb5b"
      },
      "outputs": [
        {
          "output_type": "stream",
          "name": "stdout",
          "text": [
            "Collecting git+https://github.com/modAL-python/modAL.git\n",
            "  Cloning https://github.com/modAL-python/modAL.git to /tmp/pip-req-build-cdbh3n57\n",
            "  Running command git clone --filter=blob:none --quiet https://github.com/modAL-python/modAL.git /tmp/pip-req-build-cdbh3n57\n",
            "  Resolved https://github.com/modAL-python/modAL.git to commit bba6f6fd00dbb862b1e09259b78caf6cffa2e755\n",
            "  Preparing metadata (setup.py) ... \u001b[?25l\u001b[?25hdone\n",
            "Requirement already satisfied: numpy in /usr/local/lib/python3.11/dist-packages (from modAL-python==0.4.2) (2.0.2)\n",
            "Requirement already satisfied: scikit-learn>=0.18 in /usr/local/lib/python3.11/dist-packages (from modAL-python==0.4.2) (1.6.1)\n",
            "Requirement already satisfied: scipy>=0.18 in /usr/local/lib/python3.11/dist-packages (from modAL-python==0.4.2) (1.15.3)\n",
            "Requirement already satisfied: pandas>=1.1.0 in /usr/local/lib/python3.11/dist-packages (from modAL-python==0.4.2) (2.2.2)\n",
            "Collecting skorch==0.9.0 (from modAL-python==0.4.2)\n",
            "  Downloading skorch-0.9.0-py3-none-any.whl.metadata (8.3 kB)\n",
            "Requirement already satisfied: tabulate>=0.7.7 in /usr/local/lib/python3.11/dist-packages (from skorch==0.9.0->modAL-python==0.4.2) (0.9.0)\n",
            "Requirement already satisfied: tqdm>=4.14.0 in /usr/local/lib/python3.11/dist-packages (from skorch==0.9.0->modAL-python==0.4.2) (4.67.1)\n",
            "Requirement already satisfied: python-dateutil>=2.8.2 in /usr/local/lib/python3.11/dist-packages (from pandas>=1.1.0->modAL-python==0.4.2) (2.9.0.post0)\n",
            "Requirement already satisfied: pytz>=2020.1 in /usr/local/lib/python3.11/dist-packages (from pandas>=1.1.0->modAL-python==0.4.2) (2025.2)\n",
            "Requirement already satisfied: tzdata>=2022.7 in /usr/local/lib/python3.11/dist-packages (from pandas>=1.1.0->modAL-python==0.4.2) (2025.2)\n",
            "Requirement already satisfied: joblib>=1.2.0 in /usr/local/lib/python3.11/dist-packages (from scikit-learn>=0.18->modAL-python==0.4.2) (1.5.1)\n",
            "Requirement already satisfied: threadpoolctl>=3.1.0 in /usr/local/lib/python3.11/dist-packages (from scikit-learn>=0.18->modAL-python==0.4.2) (3.6.0)\n",
            "Requirement already satisfied: six>=1.5 in /usr/local/lib/python3.11/dist-packages (from python-dateutil>=2.8.2->pandas>=1.1.0->modAL-python==0.4.2) (1.17.0)\n",
            "Downloading skorch-0.9.0-py3-none-any.whl (125 kB)\n",
            "\u001b[2K   \u001b[90m━━━━━━━━━━━━━━━━━━━━━━━━━━━━━━━━━━━━━━━━\u001b[0m \u001b[32m125.8/125.8 kB\u001b[0m \u001b[31m3.6 MB/s\u001b[0m eta \u001b[36m0:00:00\u001b[0m\n",
            "\u001b[?25hBuilding wheels for collected packages: modAL-python\n",
            "  Building wheel for modAL-python (setup.py) ... \u001b[?25l\u001b[?25hdone\n",
            "  Created wheel for modAL-python: filename=modAL_python-0.4.2-py3-none-any.whl size=32646 sha256=6ad2517dda42b1c7fadfde08bbf4efab398a87da669811921ac941d7c8c92a3c\n",
            "  Stored in directory: /tmp/pip-ephem-wheel-cache-du11gclh/wheels/87/f9/71/88b176e3d0684b68b377241dc3da25e38bd3133c2dd23fbba4\n",
            "Successfully built modAL-python\n",
            "Installing collected packages: skorch, modAL-python\n",
            "Successfully installed modAL-python-0.4.2 skorch-0.9.0\n",
            "Requirement already satisfied: tqdm in /usr/local/lib/python3.11/dist-packages (4.67.1)\n"
          ]
        }
      ],
      "source": [
        "!pip install git+https://github.com/modAL-python/modAL.git\n",
        "!pip install tqdm\n",
        "import warnings\n",
        "warnings.filterwarnings('ignore')\n",
        "import pandas as pd\n",
        "import numpy as np\n",
        "import matplotlib.pyplot as plt\n",
        "import seaborn as sns\n",
        "import string\n",
        "from sklearn.model_selection import train_test_split, RandomizedSearchCV\n",
        "from nltk.corpus import stopwords\n",
        "from nltk.stem import WordNetLemmatizer, PorterStemmer\n",
        "from nltk.tokenize import word_tokenize\n",
        "from google.colab import files\n",
        "from sklearn.metrics import accuracy_score, classification_report\n",
        "from modAL.models import ActiveLearner\n",
        "from sklearn.ensemble import RandomForestClassifier\n",
        "from sklearn.feature_extraction.text import TfidfVectorizer\n",
        "from sklearn.pipeline import Pipeline\n",
        "from sklearn.feature_selection import SelectKBest, chi2\n",
        "import nltk\n",
        "from tqdm import tqdm\n",
        "tqdm.pandas()"
      ]
    },
    {
      "cell_type": "code",
      "source": [
        "nltk.download('punkt', quiet=True)\n",
        "nltk.download('wordnet', quiet=True)\n",
        "nltk.download('stopwords', quiet=True)\n",
        "nltk.download('omw-1.4', quiet=True)\n",
        "nltk.download('punkt_tab', quiet=True)"
      ],
      "metadata": {
        "colab": {
          "base_uri": "https://localhost:8080/"
        },
        "id": "DNxnYZA6yxMD",
        "outputId": "5a899439-4d80-4dc6-9dc4-6ca8b13b7b73"
      },
      "execution_count": 2,
      "outputs": [
        {
          "output_type": "execute_result",
          "data": {
            "text/plain": [
              "True"
            ]
          },
          "metadata": {},
          "execution_count": 2
        }
      ]
    },
    {
      "cell_type": "code",
      "source": [
        "# Upload and load dataset\n",
        "files.upload()\n",
        "!mkdir -p ~/.kaggle\n",
        "!mv kaggle.json ~/.kaggle/\n",
        "!chmod 600 ~/.kaggle/kaggle.json\n",
        "!kaggle datasets download -d adhamelkomy/bank-customer-complaint-analysis\n",
        "!unzip bank-customer-complaint-analysis.zip"
      ],
      "metadata": {
        "colab": {
          "base_uri": "https://localhost:8080/",
          "height": 252
        },
        "id": "L_YsJNyr-MW4",
        "outputId": "19c686f4-3e60-448f-e539-f000c165ec00"
      },
      "execution_count": 3,
      "outputs": [
        {
          "output_type": "display_data",
          "data": {
            "text/plain": [
              "<IPython.core.display.HTML object>"
            ],
            "text/html": [
              "\n",
              "     <input type=\"file\" id=\"files-209b06d9-72e9-4577-ac66-5c540bab1219\" name=\"files[]\" multiple disabled\n",
              "        style=\"border:none\" />\n",
              "     <output id=\"result-209b06d9-72e9-4577-ac66-5c540bab1219\">\n",
              "      Upload widget is only available when the cell has been executed in the\n",
              "      current browser session. Please rerun this cell to enable.\n",
              "      </output>\n",
              "      <script>// Copyright 2017 Google LLC\n",
              "//\n",
              "// Licensed under the Apache License, Version 2.0 (the \"License\");\n",
              "// you may not use this file except in compliance with the License.\n",
              "// You may obtain a copy of the License at\n",
              "//\n",
              "//      http://www.apache.org/licenses/LICENSE-2.0\n",
              "//\n",
              "// Unless required by applicable law or agreed to in writing, software\n",
              "// distributed under the License is distributed on an \"AS IS\" BASIS,\n",
              "// WITHOUT WARRANTIES OR CONDITIONS OF ANY KIND, either express or implied.\n",
              "// See the License for the specific language governing permissions and\n",
              "// limitations under the License.\n",
              "\n",
              "/**\n",
              " * @fileoverview Helpers for google.colab Python module.\n",
              " */\n",
              "(function(scope) {\n",
              "function span(text, styleAttributes = {}) {\n",
              "  const element = document.createElement('span');\n",
              "  element.textContent = text;\n",
              "  for (const key of Object.keys(styleAttributes)) {\n",
              "    element.style[key] = styleAttributes[key];\n",
              "  }\n",
              "  return element;\n",
              "}\n",
              "\n",
              "// Max number of bytes which will be uploaded at a time.\n",
              "const MAX_PAYLOAD_SIZE = 100 * 1024;\n",
              "\n",
              "function _uploadFiles(inputId, outputId) {\n",
              "  const steps = uploadFilesStep(inputId, outputId);\n",
              "  const outputElement = document.getElementById(outputId);\n",
              "  // Cache steps on the outputElement to make it available for the next call\n",
              "  // to uploadFilesContinue from Python.\n",
              "  outputElement.steps = steps;\n",
              "\n",
              "  return _uploadFilesContinue(outputId);\n",
              "}\n",
              "\n",
              "// This is roughly an async generator (not supported in the browser yet),\n",
              "// where there are multiple asynchronous steps and the Python side is going\n",
              "// to poll for completion of each step.\n",
              "// This uses a Promise to block the python side on completion of each step,\n",
              "// then passes the result of the previous step as the input to the next step.\n",
              "function _uploadFilesContinue(outputId) {\n",
              "  const outputElement = document.getElementById(outputId);\n",
              "  const steps = outputElement.steps;\n",
              "\n",
              "  const next = steps.next(outputElement.lastPromiseValue);\n",
              "  return Promise.resolve(next.value.promise).then((value) => {\n",
              "    // Cache the last promise value to make it available to the next\n",
              "    // step of the generator.\n",
              "    outputElement.lastPromiseValue = value;\n",
              "    return next.value.response;\n",
              "  });\n",
              "}\n",
              "\n",
              "/**\n",
              " * Generator function which is called between each async step of the upload\n",
              " * process.\n",
              " * @param {string} inputId Element ID of the input file picker element.\n",
              " * @param {string} outputId Element ID of the output display.\n",
              " * @return {!Iterable<!Object>} Iterable of next steps.\n",
              " */\n",
              "function* uploadFilesStep(inputId, outputId) {\n",
              "  const inputElement = document.getElementById(inputId);\n",
              "  inputElement.disabled = false;\n",
              "\n",
              "  const outputElement = document.getElementById(outputId);\n",
              "  outputElement.innerHTML = '';\n",
              "\n",
              "  const pickedPromise = new Promise((resolve) => {\n",
              "    inputElement.addEventListener('change', (e) => {\n",
              "      resolve(e.target.files);\n",
              "    });\n",
              "  });\n",
              "\n",
              "  const cancel = document.createElement('button');\n",
              "  inputElement.parentElement.appendChild(cancel);\n",
              "  cancel.textContent = 'Cancel upload';\n",
              "  const cancelPromise = new Promise((resolve) => {\n",
              "    cancel.onclick = () => {\n",
              "      resolve(null);\n",
              "    };\n",
              "  });\n",
              "\n",
              "  // Wait for the user to pick the files.\n",
              "  const files = yield {\n",
              "    promise: Promise.race([pickedPromise, cancelPromise]),\n",
              "    response: {\n",
              "      action: 'starting',\n",
              "    }\n",
              "  };\n",
              "\n",
              "  cancel.remove();\n",
              "\n",
              "  // Disable the input element since further picks are not allowed.\n",
              "  inputElement.disabled = true;\n",
              "\n",
              "  if (!files) {\n",
              "    return {\n",
              "      response: {\n",
              "        action: 'complete',\n",
              "      }\n",
              "    };\n",
              "  }\n",
              "\n",
              "  for (const file of files) {\n",
              "    const li = document.createElement('li');\n",
              "    li.append(span(file.name, {fontWeight: 'bold'}));\n",
              "    li.append(span(\n",
              "        `(${file.type || 'n/a'}) - ${file.size} bytes, ` +\n",
              "        `last modified: ${\n",
              "            file.lastModifiedDate ? file.lastModifiedDate.toLocaleDateString() :\n",
              "                                    'n/a'} - `));\n",
              "    const percent = span('0% done');\n",
              "    li.appendChild(percent);\n",
              "\n",
              "    outputElement.appendChild(li);\n",
              "\n",
              "    const fileDataPromise = new Promise((resolve) => {\n",
              "      const reader = new FileReader();\n",
              "      reader.onload = (e) => {\n",
              "        resolve(e.target.result);\n",
              "      };\n",
              "      reader.readAsArrayBuffer(file);\n",
              "    });\n",
              "    // Wait for the data to be ready.\n",
              "    let fileData = yield {\n",
              "      promise: fileDataPromise,\n",
              "      response: {\n",
              "        action: 'continue',\n",
              "      }\n",
              "    };\n",
              "\n",
              "    // Use a chunked sending to avoid message size limits. See b/62115660.\n",
              "    let position = 0;\n",
              "    do {\n",
              "      const length = Math.min(fileData.byteLength - position, MAX_PAYLOAD_SIZE);\n",
              "      const chunk = new Uint8Array(fileData, position, length);\n",
              "      position += length;\n",
              "\n",
              "      const base64 = btoa(String.fromCharCode.apply(null, chunk));\n",
              "      yield {\n",
              "        response: {\n",
              "          action: 'append',\n",
              "          file: file.name,\n",
              "          data: base64,\n",
              "        },\n",
              "      };\n",
              "\n",
              "      let percentDone = fileData.byteLength === 0 ?\n",
              "          100 :\n",
              "          Math.round((position / fileData.byteLength) * 100);\n",
              "      percent.textContent = `${percentDone}% done`;\n",
              "\n",
              "    } while (position < fileData.byteLength);\n",
              "  }\n",
              "\n",
              "  // All done.\n",
              "  yield {\n",
              "    response: {\n",
              "      action: 'complete',\n",
              "    }\n",
              "  };\n",
              "}\n",
              "\n",
              "scope.google = scope.google || {};\n",
              "scope.google.colab = scope.google.colab || {};\n",
              "scope.google.colab._files = {\n",
              "  _uploadFiles,\n",
              "  _uploadFilesContinue,\n",
              "};\n",
              "})(self);\n",
              "</script> "
            ]
          },
          "metadata": {}
        },
        {
          "output_type": "stream",
          "name": "stdout",
          "text": [
            "Saving kaggle.json to kaggle.json\n",
            "Dataset URL: https://www.kaggle.com/datasets/adhamelkomy/bank-customer-complaint-analysis\n",
            "License(s): CC0-1.0\n",
            "Downloading bank-customer-complaint-analysis.zip to /content\n",
            "  0% 0.00/20.0M [00:00<?, ?B/s]\n",
            "100% 20.0M/20.0M [00:00<00:00, 1.24GB/s]\n",
            "Archive:  bank-customer-complaint-analysis.zip\n",
            "  inflating: Bank Customer Complaint Analysis for Efficient Dispute Resolution.ipynb  \n",
            "  inflating: complaints.csv          \n",
            "  inflating: complaints_report_20240226_183305.txt  \n",
            "  inflating: final_dataframe (1).csv  \n"
          ]
        }
      ]
    },
    {
      "cell_type": "code",
      "source": [
        "# Load and preprocess data\n",
        "df = pd.read_csv(\"complaints.csv\")\n",
        "df.rename(columns={'Unnamed: 0': 'Complaint_No'}, inplace=True)\n",
        "\n",
        "# Convert product categories to numerical labels\n",
        "df[\"product\"] = df[\"product\"].replace({\n",
        "    \"credit_card\": \"1\",\n",
        "    \"retail_banking\": \"2\",\n",
        "    \"credit_reporting\": \"3\",\n",
        "    \"mortgages_and_loans\": \"4\",\n",
        "    \"debt_collection\": \"5\"\n",
        "}, regex=False)"
      ],
      "metadata": {
        "id": "gMBXlaKn-kGD"
      },
      "execution_count": 4,
      "outputs": []
    },
    {
      "cell_type": "code",
      "source": [
        "# Clean data\n",
        "df = df.dropna()\n",
        "df[\"narrative\"] = df[\"narrative\"].str.lower()\n",
        "\n",
        "# Initialize lemmatizer and stemmer\n",
        "lemmatizer = WordNetLemmatizer()\n",
        "stemmer = PorterStemmer()"
      ],
      "metadata": {
        "id": "DqHUU4zz-scp"
      },
      "execution_count": 5,
      "outputs": []
    },
    {
      "cell_type": "code",
      "source": [
        "def preprocess_text(text):\n",
        "    try:\n",
        "        if not isinstance(text, str):\n",
        "            return \"\"\n",
        "\n",
        "        # Remove punctuation\n",
        "        text = text.translate(str.maketrans('', '', string.punctuation))\n",
        "\n",
        "        # Tokenize with error handling\n",
        "        try:\n",
        "            words = word_tokenize(text)\n",
        "        except:\n",
        "            # Fallback simple tokenization if punkt fails\n",
        "            words = text.split()\n",
        "\n",
        "        # Remove stopwords\n",
        "        stop_words = set(stopwords.words('english'))\n",
        "        words = [word for word in words if word not in stop_words]\n",
        "\n",
        "        # Lemmatization\n",
        "        words = [lemmatizer.lemmatize(word) for word in words]\n",
        "\n",
        "        # Stemming\n",
        "        words = [stemmer.stem(word) for word in words]\n",
        "\n",
        "        return \" \".join(words)\n",
        "    except Exception as e:\n",
        "        print(f\"Error processing text: {str(e)[:100]}...\")\n",
        "        return \"\""
      ],
      "metadata": {
        "id": "eHgQLFcl-x66"
      },
      "execution_count": 6,
      "outputs": []
    },
    {
      "cell_type": "code",
      "source": [
        "# Apply preprocessing with progress indication\n",
        "print(\"Preprocessing text data...\")\n",
        "df[\"narrative\"] = df[\"narrative\"].progress_apply(preprocess_text)\n",
        "print(\"Preprocessing completed.\")"
      ],
      "metadata": {
        "id": "JW5f5Yn2-4hj",
        "colab": {
          "base_uri": "https://localhost:8080/"
        },
        "outputId": "7a4e13dd-9311-4e1e-e652-1e7ce3125084"
      },
      "execution_count": 7,
      "outputs": [
        {
          "output_type": "stream",
          "name": "stdout",
          "text": [
            "Preprocessing text data...\n"
          ]
        },
        {
          "output_type": "stream",
          "name": "stderr",
          "text": [
            "100%|██████████| 162411/162411 [05:44<00:00, 471.88it/s]\n"
          ]
        },
        {
          "output_type": "stream",
          "name": "stdout",
          "text": [
            "Preprocessing completed.\n"
          ]
        }
      ]
    },
    {
      "cell_type": "code",
      "source": [
        "# Prepare features and labels\n",
        "X = df['narrative'].values\n",
        "y = df[\"product\"].values\n",
        "\n",
        "# Split into initial training pool and test set\n",
        "X_pool, X_test, y_pool, y_test = train_test_split(X, y, test_size=0.2, random_state=42)\n",
        "X_train, X_pool, y_train, y_pool = train_test_split(X_pool, y_pool, test_size=0.8, random_state=42)\n",
        "\n",
        "print(f\"\\nInitial training set: {len(X_train)} samples\")\n",
        "print(f\"Pool for active learning: {len(X_pool)} samples\")\n",
        "print(f\"Test set: {len(X_test)} samples\")"
      ],
      "metadata": {
        "id": "JBBlVOqG_iFD",
        "colab": {
          "base_uri": "https://localhost:8080/"
        },
        "outputId": "a3bc449b-af6f-498d-b780-b2536e166465"
      },
      "execution_count": 8,
      "outputs": [
        {
          "output_type": "stream",
          "name": "stdout",
          "text": [
            "\n",
            "Initial training set: 25985 samples\n",
            "Pool for active learning: 103943 samples\n",
            "Test set: 32483 samples\n"
          ]
        }
      ]
    },
    {
      "cell_type": "code",
      "source": [
        "# Create a pipeline with TF-IDF and feature selection\n",
        "pipeline = Pipeline([\n",
        "    ('tfidf', TfidfVectorizer(max_features=5000)),\n",
        "    ('feature_selection', SelectKBest(chi2, k=3000)),\n",
        "    ('classifier', RandomForestClassifier(random_state=42, n_jobs=-1))\n",
        "])\n",
        "\n",
        "rf_params = {\n",
        "    'classifier__n_estimators': [100, 200],\n",
        "    'classifier__max_depth': [10, 20, None],\n",
        "    'classifier__min_samples_split': [2, 5],\n",
        "    'classifier__min_samples_leaf': [1, 2],\n",
        "    'classifier__class_weight': ['balanced']\n",
        "}\n",
        "\n",
        "X_tune, _, y_tune, _ = train_test_split(X_train, y_train, test_size=0.7, random_state=42)"
      ],
      "metadata": {
        "id": "lurCs0dv_ntX"
      },
      "execution_count": 9,
      "outputs": []
    },
    {
      "cell_type": "code",
      "source": [
        "rf_search = RandomizedSearchCV(\n",
        "    pipeline,\n",
        "    rf_params,\n",
        "    n_iter=5,\n",
        "    cv=3,\n",
        "    n_jobs=-1,\n",
        "    random_state=42,\n",
        "    scoring='accuracy'\n",
        ")\n",
        "\n",
        "print(\"\\nStarting hyperparameter tuning...\")\n",
        "rf_search.fit(X_tune, y_tune)\n",
        "best_pipeline = rf_search.best_estimator_\n",
        "\n",
        "print(\"\\nBest Random Forest parameters:\")\n",
        "print(rf_search.best_params_)"
      ],
      "metadata": {
        "colab": {
          "base_uri": "https://localhost:8080/"
        },
        "id": "C_HLkEQV_sxD",
        "outputId": "61d65ca8-81ac-490a-ae89-fe4612d24c16"
      },
      "execution_count": 10,
      "outputs": [
        {
          "output_type": "stream",
          "name": "stdout",
          "text": [
            "\n",
            "Starting hyperparameter tuning...\n",
            "\n",
            "Best Random Forest parameters:\n",
            "{'classifier__n_estimators': 100, 'classifier__min_samples_split': 5, 'classifier__min_samples_leaf': 1, 'classifier__max_depth': None, 'classifier__class_weight': 'balanced'}\n"
          ]
        }
      ]
    },
    {
      "cell_type": "code",
      "source": [
        "vectorizer = best_pipeline.named_steps['tfidf']\n",
        "X_train_vec = vectorizer.transform(X_train)\n",
        "X_pool_vec = vectorizer.transform(X_pool)\n",
        "X_test_vec = vectorizer.transform(X_test)\n",
        "\n",
        "# Get the trained classifier from the pipeline\n",
        "best_rf = best_pipeline.named_steps['classifier']\n",
        "\n",
        "# Query Strategy (500 samples per query)\n",
        "def query_strategy_500(classifier, X_pool_vec):\n",
        "    batch_size = min(500, X_pool_vec.shape[0])\n",
        "\n",
        "    probas = classifier.predict_proba(X_pool_vec)\n",
        "\n",
        "    if probas.shape[1] >= 2:\n",
        "        top_probs = -np.partition(-probas, 2, axis=1)[:, :2]\n",
        "        margins = top_probs[:, 0] - top_probs[:, 1]\n",
        "        query_idx = np.argpartition(margins, batch_size)[:batch_size]\n",
        "    else:\n",
        "        query_idx = np.random.choice(X_pool_vec.shape[0], size=batch_size, replace=False)\n",
        "\n",
        "    return query_idx, X_pool_vec[query_idx]"
      ],
      "metadata": {
        "id": "mgfPSsDQxhBK"
      },
      "execution_count": 11,
      "outputs": []
    },
    {
      "cell_type": "code",
      "source": [
        "# Initialize ActiveLearner with tuned model\n",
        "learner = ActiveLearner(\n",
        "    estimator=best_rf,\n",
        "    query_strategy=query_strategy_500,\n",
        "    X_training=X_train_vec,\n",
        "    y_training=y_train\n",
        ")\n",
        "\n",
        "def evaluate_model(learner, X_vec, y):\n",
        "    predictions = learner.predict(X_vec)\n",
        "    return accuracy_score(y, predictions)\n",
        "\n",
        "# Active learning with exactly 20 iterations\n",
        "max_queries = 20\n",
        "performance_history = [evaluate_model(learner, X_test_vec, y_test)]\n",
        "samples_added_history = [X_train_vec.shape[0]]\n",
        "\n",
        "print(f\"\\nInitial accuracy: {performance_history[0]:.4f}\")"
      ],
      "metadata": {
        "colab": {
          "base_uri": "https://localhost:8080/"
        },
        "id": "BzwrSwAv_xy7",
        "outputId": "6161920a-efbc-436e-de7c-e4c86e9191d9"
      },
      "execution_count": 12,
      "outputs": [
        {
          "output_type": "stream",
          "name": "stdout",
          "text": [
            "\n",
            "Initial accuracy: 0.8583\n"
          ]
        }
      ]
    },
    {
      "cell_type": "code",
      "source": [
        "print(f\"Running exactly {max_queries} iterations with 500 samples per query\")\n",
        "\n",
        "for query_num in range(1, max_queries + 1):\n",
        "    if X_pool_vec.shape[0] == 0:\n",
        "        print(\"\\nPool exhausted - no more samples available\")\n",
        "        break\n",
        "\n",
        "    # Query for 500 most uncertain instances\n",
        "    query_idx, _ = learner.query(X_pool_vec)\n",
        "    actual_batch_size = len(query_idx)\n",
        "\n",
        "    learner.teach(X=X_pool_vec[query_idx], y=y_pool[query_idx])\n",
        "\n",
        "    mask = np.ones(X_pool_vec.shape[0], dtype=bool)\n",
        "    mask[query_idx] = False\n",
        "    X_pool_vec = X_pool_vec[mask]\n",
        "    y_pool = y_pool[mask]\n",
        "\n",
        "    current_acc = evaluate_model(learner, X_test_vec, y_test)\n",
        "    performance_history.append(current_acc)\n",
        "    samples_added_history.append(samples_added_history[-1] + actual_batch_size)\n",
        "\n",
        "    print(f\"Iteration {query_num}/{max_queries} | \"\n",
        "          f\"Added {actual_batch_size} samples | \"\n",
        "          f\"Total samples: {samples_added_history[-1]} | \"\n",
        "          f\"Accuracy: {current_acc:.4f}\")"
      ],
      "metadata": {
        "colab": {
          "base_uri": "https://localhost:8080/"
        },
        "id": "DJhvfQAF_0GV",
        "outputId": "7bfc732a-761e-4204-e3ef-fd177e9921c6"
      },
      "execution_count": 13,
      "outputs": [
        {
          "output_type": "stream",
          "name": "stdout",
          "text": [
            "Running exactly 20 iterations with 500 samples per query\n",
            "Iteration 1/20 | Added 500 samples | Total samples: 26485 | Accuracy: 0.8608\n",
            "Iteration 2/20 | Added 500 samples | Total samples: 26985 | Accuracy: 0.8612\n",
            "Iteration 3/20 | Added 500 samples | Total samples: 27485 | Accuracy: 0.8617\n",
            "Iteration 4/20 | Added 500 samples | Total samples: 27985 | Accuracy: 0.8664\n",
            "Iteration 5/20 | Added 500 samples | Total samples: 28485 | Accuracy: 0.8641\n",
            "Iteration 6/20 | Added 500 samples | Total samples: 28985 | Accuracy: 0.8657\n",
            "Iteration 7/20 | Added 500 samples | Total samples: 29485 | Accuracy: 0.8676\n",
            "Iteration 8/20 | Added 500 samples | Total samples: 29985 | Accuracy: 0.8670\n",
            "Iteration 9/20 | Added 500 samples | Total samples: 30485 | Accuracy: 0.8680\n",
            "Iteration 10/20 | Added 500 samples | Total samples: 30985 | Accuracy: 0.8688\n",
            "Iteration 11/20 | Added 500 samples | Total samples: 31485 | Accuracy: 0.8701\n",
            "Iteration 12/20 | Added 500 samples | Total samples: 31985 | Accuracy: 0.8708\n",
            "Iteration 13/20 | Added 500 samples | Total samples: 32485 | Accuracy: 0.8721\n",
            "Iteration 14/20 | Added 500 samples | Total samples: 32985 | Accuracy: 0.8721\n",
            "Iteration 15/20 | Added 500 samples | Total samples: 33485 | Accuracy: 0.8727\n",
            "Iteration 16/20 | Added 500 samples | Total samples: 33985 | Accuracy: 0.8738\n",
            "Iteration 17/20 | Added 500 samples | Total samples: 34485 | Accuracy: 0.8747\n",
            "Iteration 18/20 | Added 500 samples | Total samples: 34985 | Accuracy: 0.8753\n",
            "Iteration 19/20 | Added 500 samples | Total samples: 35485 | Accuracy: 0.8748\n",
            "Iteration 20/20 | Added 500 samples | Total samples: 35985 | Accuracy: 0.8753\n"
          ]
        }
      ]
    },
    {
      "cell_type": "code",
      "source": [
        "# Plot learning curves\n",
        "plt.figure(figsize=(12, 5))\n",
        "plt.subplot(1, 2, 1)\n",
        "plt.plot(samples_added_history, performance_history, marker='o')\n",
        "plt.title('Accuracy vs Training Set Size')\n",
        "plt.xlabel('Number of training samples')\n",
        "plt.ylabel('Accuracy')\n",
        "plt.grid(True)\n",
        "\n",
        "plt.subplot(1, 2, 2)\n",
        "plt.plot(range(len(performance_history)), performance_history, marker='o')\n",
        "plt.title('Accuracy vs Iterations')\n",
        "plt.xlabel('Iteration number')\n",
        "plt.ylabel('Accuracy')\n",
        "plt.grid(True)\n",
        "\n",
        "plt.tight_layout()\n",
        "plt.show()\n",
        "\n",
        "# Final evaluation\n",
        "final_predictions = learner.predict(X_test_vec)\n",
        "print(\"\\nFinal Classification Report:\")\n",
        "print(classification_report(y_test, final_predictions))"
      ],
      "metadata": {
        "id": "Yz37ry_ezrqy",
        "colab": {
          "base_uri": "https://localhost:8080/",
          "height": 757
        },
        "outputId": "efe0c3a7-e038-491e-f95c-95b04805a1b9"
      },
      "execution_count": 14,
      "outputs": [
        {
          "output_type": "display_data",
          "data": {
            "text/plain": [
              "<Figure size 1200x500 with 2 Axes>"
            ],
            "image/png": "[encoded data removed]"
          },
          "metadata": {}
        },
        {
          "output_type": "stream",
          "name": "stdout",
          "text": [
            "\n",
            "Final Classification Report:\n",
            "              precision    recall  f1-score   support\n",
            "\n",
            "           1       0.78      0.76      0.77      3132\n",
            "           2       0.85      0.86      0.86      2683\n",
            "           3       0.91      0.94      0.93     18283\n",
            "           4       0.85      0.82      0.83      3770\n",
            "           5       0.82      0.74      0.78      4615\n",
            "\n",
            "    accuracy                           0.88     32483\n",
            "   macro avg       0.84      0.83      0.83     32483\n",
            "weighted avg       0.87      0.88      0.87     32483\n",
            "\n"
          ]
        }
      ]
    }
  ]
}